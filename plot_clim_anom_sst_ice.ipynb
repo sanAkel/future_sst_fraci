{
 "cells": [
  {
   "cell_type": "code",
   "execution_count": null,
   "id": "76aeed63",
   "metadata": {},
   "outputs": [],
   "source": [
    "import xarray as xr\n",
    "\n",
    "import matplotlib.pyplot as plt\n",
    "\n",
    "import cartopy.crs as ccrs\n",
    "import cartopy.feature as cfeature\n",
    "\n",
    "# To avoid warning messages\n",
    "import warnings\n",
    "warnings.filterwarnings('ignore')\n",
    "\n",
    "%matplotlib inline"
   ]
  },
  {
   "cell_type": "markdown",
   "id": "798dfb26",
   "metadata": {},
   "source": [
    "## Load data"
   ]
  },
  {
   "cell_type": "code",
   "execution_count": null,
   "id": "99176e79",
   "metadata": {},
   "outputs": [],
   "source": [
    "ds_clim = xr.open_dataset(\"data/\" + \"sst_fraci_00010101.nc4\", decode_times=False)\n",
    "ds_real = xr.open_dataset(\"data/\" + \"sst_fraci_20230101.nc4\", decode_times=False)"
   ]
  },
  {
   "cell_type": "code",
   "execution_count": null,
   "id": "66927a1c",
   "metadata": {},
   "outputs": [],
   "source": [
    "fig = plt.figure(num=1, figsize=(12,10))\n",
    "\n",
    "ax1 = fig.add_subplot(1,2,1,projection=ccrs.Mercator(central_longitude=-180))\n",
    "ax1.coastlines()\n",
    "ax1.add_feature(cfeature.LAND, zorder=100, edgecolor='k')\n",
    "im1 = ds_clim.SST.plot(x='lon', y='lat', transform=ccrs.PlateCarree(),\\\n",
    "                      vmin=275., vmax=305., cmap=plt.cm.Spectral_r,\\\n",
    "                       add_colorbar=False, add_labels=False)\n",
    "cb1 = plt.colorbar(im1, pad=0.01, shrink=0.75, orientation='horizontal')\n",
    "cb1.set_label('Climatology SST Jan-01 [K] ')\n",
    "#\n",
    "ax2 = fig.add_subplot(1,2,2,projection=ccrs.Mercator(central_longitude=-180))\n",
    "ax2.coastlines()\n",
    "ax2.add_feature(cfeature.LAND, zorder=100, edgecolor='k')\n",
    "im2 = ds_real.SST.plot(x='lon', y='lat', transform=ccrs.PlateCarree(),\\\n",
    "                      vmin=275., vmax=305., cmap=plt.cm.Spectral_r,\\\n",
    "                       add_colorbar=False, add_labels=False)\n",
    "cb2 = plt.colorbar(im2, pad=0.01, shrink=0.75, orientation='horizontal')\n",
    "cb2.set_label('Real SST [K] Jan-01-2023')"
   ]
  },
  {
   "cell_type": "code",
   "execution_count": null,
   "id": "a7e61842",
   "metadata": {},
   "outputs": [],
   "source": [
    "fig = plt.figure(num=1, figsize=(10,8))\n",
    "\n",
    "ax1 = fig.add_subplot(1,1,1,projection=ccrs.Mercator(central_longitude=-180))\n",
    "ax1.coastlines()\n",
    "ax1.add_feature(cfeature.LAND, zorder=100, edgecolor='k')\n",
    "im1 = (ds_real.SST-ds_clim.SST).plot(x='lon', y='lat', transform=ccrs.PlateCarree(),\\\n",
    "                      vmin=-5., vmax=5., cmap=plt.cm.bwr,\\\n",
    "                       add_colorbar=False, add_labels=False)\n",
    "cb1 = plt.colorbar(im1, pad=0.01, shrink=0.75, orientation='horizontal')\n",
    "cb1.set_label('Real - Climatology SST Jan-01 [K]')"
   ]
  },
  {
   "cell_type": "markdown",
   "id": "cdd349ee",
   "metadata": {},
   "source": [
    "# Sea ice"
   ]
  },
  {
   "cell_type": "code",
   "execution_count": null,
   "id": "a30ca374",
   "metadata": {},
   "outputs": [],
   "source": [
    "subplot_kws=dict(projection=ccrs.NorthPolarStereo(central_longitude=-30.0),\n",
    "                 facecolor='grey')\n",
    "\n",
    "plt.figure(figsize=[12,8])\n",
    "p = sst_plot.plot(x='geolon', y='geolat',\n",
    "                  vmin=-2, vmax=12,\n",
    "                  cmap=cmocean.cm.thermal,\n",
    "                  subplot_kws=subplot_kws,\n",
    "                  transform=ccrs.PlateCarree(),\n",
    "                  add_labels=False,\n",
    "                  add_colorbar=False)\n",
    "\n",
    "# add separate colorbar\n",
    "cb = plt.colorbar(p, ticks=[-2,0,2,4,6,8,10,12], shrink=0.99)\n",
    "cb.ax.tick_params(labelsize=18)\n",
    "\n",
    "p.axes.gridlines(color='black', alpha=0.5, linestyle='--')\n",
    "p.axes.set_extent([-300, 60, 50, 90], ccrs.PlateCarree())"
   ]
  }
 ],
 "metadata": {
  "kernelspec": {
   "display_name": "xesmf_env",
   "language": "python",
   "name": "xesmf_env"
  },
  "language_info": {
   "codemirror_mode": {
    "name": "ipython",
    "version": 3
   },
   "file_extension": ".py",
   "mimetype": "text/x-python",
   "name": "python",
   "nbconvert_exporter": "python",
   "pygments_lexer": "ipython3",
   "version": "3.10.13"
  }
 },
 "nbformat": 4,
 "nbformat_minor": 5
}
