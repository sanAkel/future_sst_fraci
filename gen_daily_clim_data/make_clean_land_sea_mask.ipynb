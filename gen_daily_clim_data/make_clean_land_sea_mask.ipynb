{
 "cells": [
  {
   "cell_type": "code",
   "execution_count": null,
   "id": "38079050",
   "metadata": {},
   "outputs": [],
   "source": [
    "import numpy as np\n",
    "import xarray as xr\n",
    "import matplotlib.pyplot as plt\n",
    "\n",
    "%matplotlib inline"
   ]
  },
  {
   "cell_type": "markdown",
   "id": "8ec225d3",
   "metadata": {},
   "source": [
    "## Plot mask\n",
    "\n",
    "\n",
    "- This mask was created by remapping `mask` variable in 1/20$^\\circ$ OSTIA file to same lat-lon 1/8$^\\circ$ regular grid that used in GEOS BCs\n",
    "- Using `gen_daily_clim/save_mask.py`"
   ]
  },
  {
   "cell_type": "markdown",
   "id": "37d03e1c",
   "metadata": {},
   "source": [
    "### !ncdump -h data/mask_geos_bcs.nc"
   ]
  },
  {
   "cell_type": "markdown",
   "id": "1851d9cb",
   "metadata": {},
   "source": [
    "```\n",
    "netcdf mask_geos_bcs {\n",
    "dimensions:\n",
    "\tlon = 2880 ;\n",
    "\tlat = 1440 ;\n",
    "variables:\n",
    "    ...\n",
    "    \tfloat mask(lat, lon) ;\n",
    "\t\tmask:_FillValue = NaNf ;\n",
    "\t\tmask:long_name = \"sea/land/lake/ice field composite mask\" ;\n",
    "\t\tmask:flag_values = 1b, 2b, 4b, 8b ;\n",
    "\t\tmask:flag_meanings = \"sea land lake ice\" ;\n",
    "\t\tmask:comment = \"b0: 1=grid cell is open sea water\\nb1: 1=land is present in this grid cell\\nb2: 1=lake surface is present in this grid cell\\nb3: 1=sea ice is present in this grid cell\\nb4-b7: reserved for future grid mask data\" ;\n",
    "```"
   ]
  },
  {
   "cell_type": "markdown",
   "id": "06abe589",
   "metadata": {},
   "source": [
    "## We got `mask`:\n",
    "- = 1: open sea water\n",
    "- = 2: land surface\n",
    "\n",
    "## Build a new _custom_ land-sea mask using above information"
   ]
  },
  {
   "cell_type": "code",
   "execution_count": null,
   "id": "b430a628",
   "metadata": {},
   "outputs": [],
   "source": [
    "ls_mask = xr.open_dataset(\"data/mask_geos_bcs.nc\")\n",
    "\n",
    "my_mask = np.ones_like(ls_mask.mask.values)\n",
    "\n",
    "# land\n",
    "sVal=2.; Tol= 1.e-1\n",
    "my_mask[( (ls_mask.mask.values> (sVal-Tol)) & (ls_mask.mask.values< (sVal+Tol)))] = 0.\n",
    "\n",
    "# lake would be added like this; masking land suffices for now.\n",
    "#sVal=4.; Tol= 1.e-1\n",
    "#my_mask[( (ls_mask.mask.values> (sVal-Tol)) & (ls_mask.mask.values< (sVal+Tol)))] = 0."
   ]
  },
  {
   "cell_type": "markdown",
   "id": "f240d250",
   "metadata": {},
   "source": [
    "### Save it"
   ]
  },
  {
   "cell_type": "code",
   "execution_count": null,
   "id": "fff4aeda",
   "metadata": {},
   "outputs": [],
   "source": [
    "da = xr.DataArray(data=my_mask, \n",
    "coords={'lat': ls_mask.lat,'lon': ls_mask.lon}, \n",
    "dims=[\"lat\", \"lon\"],\n",
    "attrs=dict(description=\"Land-sea mask (0: land, 1:otherwise) for GEOS forward processing applications\"))\n",
    "\n",
    "ds_lsMask = da.to_dataset(name='land_mask')\n",
    "\n",
    "#ds_lsMask.land_mask.plot()\n",
    "ds_lsMask.to_netcdf('data/geos_fp_bcs_land_sea_mask.nc')"
   ]
  },
  {
   "cell_type": "markdown",
   "id": "8f2a36ed",
   "metadata": {},
   "source": [
    "### Plot it"
   ]
  },
  {
   "cell_type": "code",
   "execution_count": null,
   "id": "c7e0811b",
   "metadata": {
    "scrolled": true
   },
   "outputs": [],
   "source": [
    "plt.figure( figsize=(8, 4))\n",
    "\n",
    "plt.subplot(121)\n",
    "ls_mask.mask.plot(vmin=0.5, vmax=14, cmap=plt.cm.Set1)\n",
    "plt.title('From OSTIA')\n",
    "\n",
    "plt.subplot(122)\n",
    "ds_lsMask.land_mask.plot()\n",
    "plt.title('Home made')"
   ]
  },
  {
   "cell_type": "code",
   "execution_count": null,
   "id": "4d19c76c",
   "metadata": {},
   "outputs": [],
   "source": []
  }
 ],
 "metadata": {
  "kernelspec": {
   "display_name": "xesmf_env",
   "language": "python",
   "name": "xesmf_env"
  },
  "language_info": {
   "codemirror_mode": {
    "name": "ipython",
    "version": 3
   },
   "file_extension": ".py",
   "mimetype": "text/x-python",
   "name": "python",
   "nbconvert_exporter": "python",
   "pygments_lexer": "ipython3",
   "version": "3.10.13"
  }
 },
 "nbformat": 4,
 "nbformat_minor": 5
}
