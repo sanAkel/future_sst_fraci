{
 "cells": [
  {
   "cell_type": "markdown",
   "id": "c68b01df-87a5-4bb0-95fd-b6685495f34b",
   "metadata": {},
   "source": [
    "## Test different ideas for generating _future_ Boundary Conditions (BCs):\n",
    "- SST\n",
    "- Ice concentration"
   ]
  },
  {
   "cell_type": "markdown",
   "id": "8457dbcf-fe71-4b9c-9fa1-b8ea5fdbac7b",
   "metadata": {},
   "source": [
    "### Needed modules"
   ]
  },
  {
   "cell_type": "code",
   "execution_count": null,
   "id": "ecc29285-3ce3-4022-9e56-63c67f14fb4d",
   "metadata": {},
   "outputs": [],
   "source": [
    "import numpy as np\n",
    "import pandas as pd\n",
    "import xarray as xr\n",
    "import matplotlib.pyplot as plt\n",
    "\n",
    "%matplotlib inline"
   ]
  },
  {
   "cell_type": "markdown",
   "id": "a78f79f9-4575-4603-8a69-223d0ef8bf2d",
   "metadata": {},
   "source": [
    "## To apply land-sea mask"
   ]
  },
  {
   "cell_type": "code",
   "execution_count": null,
   "id": "0aa98aaf-a9e5-488c-af71-53336d9034aa",
   "metadata": {},
   "outputs": [],
   "source": [
    "land_sea_mask = xr.open_dataset(\"/discover/nobackup/projects/gmao/advda/sakella/future_sst_fraci/gen_daily_clim_data/data/geos_fp_bcs_land_sea_mask.nc\")\n",
    "my_mask = land_sea_mask.land_mask.values"
   ]
  },
  {
   "cell_type": "markdown",
   "id": "f2aed75d-06d2-4b20-83f1-bf35d98b0dfb",
   "metadata": {},
   "source": [
    "### Local functions"
   ]
  },
  {
   "cell_type": "code",
   "execution_count": null,
   "id": "55509d5b-8ca8-4b0d-b34f-8e7a222aa89b",
   "metadata": {},
   "outputs": [],
   "source": [
    "# file names: real data and daily climatology\n",
    "def get_files_names(dates, data_path, file_pref, clim=False, file_suff=\".nc\"):\n",
    "   files_to_read = []\n",
    "   for idate in dates:\n",
    "\n",
    "     if (clim==False): # real data\n",
    "       ff = data_path + str(idate.year) + \"/\" +\\\n",
    "            file_pref + str(idate.year) + str(idate.month).zfill(2) + str(idate.day).zfill(2) +\\\n",
    "            file_suff\n",
    "     else:\n",
    "       ff = data_path + \"/\"+\\\n",
    "            file_pref + \"0001\" + str(idate.month).zfill(2) + str(idate.day).zfill(2) +\\\n",
    "            file_suff\n",
    "\n",
    "     #print(ff)\n",
    "     files_to_read.append(ff)\n",
    "   return files_to_read\n",
    "\n",
    "# We need to mask out land\n",
    "def apply_mask( input_field, mask, tol=0.1):\n",
    "  output_field = np.copy( input_field)\n",
    "  output_field [mask<tol] = np.nan\n",
    "  return output_field\n",
    "\n",
    "# mask land\n",
    "def mask_array(ds, iTime, vName='SST', mask=my_mask):\n",
    "    arr = ds[vName].isel(time=iTime).values\n",
    "    masked_arr=apply_mask(arr, mask)\n",
    "    return masked_arr\n",
    "\n",
    "# to write forecast stats\n",
    "def write_stats(vName, var):\n",
    "    f1 = vName + \"_{}_{}.csv\".format(exp_dates[0].strftime('%Y%m%d'), exp_dates[-1].strftime('%Y%m%d'))\n",
    "    print(\"Writing out: \", f1)\n",
    "    np.savetxt(f1, (var), delimiter=\",\", fmt='%1.4f')\n",
    "    print(\"Done!\")\n",
    "    \n",
    "# Unweighted mean and std dev\n",
    "def unWeighted_mean_sdev(arr):\n",
    "    mean_arr = np.nanmean(arr.flatten(), dtype=np.float64)\n",
    "    sdev_arr =  np.nanstd(arr.flatten(), dtype=np.float64)\n",
    "    return mean_arr, sdev_arr"
   ]
  },
  {
   "cell_type": "markdown",
   "id": "76b532be-bd86-46e0-a88e-9ea4e6cc4558",
   "metadata": {},
   "source": [
    "### Different methods to predict future BCs, see below for mathematical details"
   ]
  },
  {
   "cell_type": "code",
   "execution_count": null,
   "id": "e664cb49-302f-4bab-aa4f-7a0b28acaa6c",
   "metadata": {},
   "outputs": [],
   "source": [
    "def forecast_bc(method, id, bc0, clim_bc, anomaly0):\n",
    "    \n",
    "    predicted_bc = np.zeros_like(bc0) # init to be safe!\n",
    "    \n",
    "    if method == \"persist\":\n",
    "        predicted_bc = bc0 # persistence throughout the forecast\n",
    "    elif method == \"persist_init_anom\":\n",
    "        if (id==0):\n",
    "            predicted_bc = bc0 # forecast start day\n",
    "        else:\n",
    "            predicted_bc = clim_bc + anomaly0\n",
    "    elif method == \"test3\":\n",
    "        if (id==0):\n",
    "            predicted_bc = bc0 # forecast start day\n",
    "        else:\n",
    "            predicted_bc = clim_bc - anomaly0\n",
    "    elif method == \"test4\":\n",
    "        if (id==0):\n",
    "            predicted_bc = bc0 # forecast start day\n",
    "        else:\n",
    "            predicted_bc = bc0 + anomaly0       \n",
    "    else:\n",
    "        print(\"Uknown method: {} for creating future BCs.\".format(method))\n",
    "        \n",
    "    return predicted_bc    "
   ]
  },
  {
   "cell_type": "markdown",
   "id": "947e7ca8-7a3f-46ef-b80c-88cb8086d1b5",
   "metadata": {},
   "source": [
    "# User set arguments\n",
    "\n",
    "| variable | What is it? |\n",
    "| :--      | --:         |\n",
    "| fcst_nDays | Typical number of days of a single forecast |\n",
    "| nfcst | How many forecasts should we try |\n",
    "| vName | Name of Boundary Condition (BC): `SST` or `FRACI` |\n",
    "| start_date | Start date of ALL the forecasts |\n",
    "| end_date   | End date of ALL the forecasts |\n",
    "| data_path_real | Path to `netcdf` version of **daily** GMAO OPS SST and sea ice boundary conditions (BCs)|\n",
    "| data_path_clim | Path to daily climatology of GMAO OPS BCs, based on 2007- 2023 |\n",
    "\n",
    "## Methods:\n",
    "1. **Persist**: Use BC of first day ($x0$) of forecast for all `fcst_nDays`\n",
    "    $$x(d) = x(0)\\,\\, \\forall d > 0.$$\n",
    "2. **Persist initial anomaly**: Persist anomaly (with respect to daily clim: $\\bar{x}$) of $x(0)$ for for all `fcst_nDays`\n",
    "    $$\\delta x(d) = x(d) - \\bar{x}(d) \\, \\forall d, $$\n",
    "    $$x(d) = \\bar{x}(d) + \\delta x(0)\\,\\, \\forall d > 0.$$\n",
    "3. **Test3**: See below!\n",
    "    $$x(d) = \\bar{x}(d) - \\delta x(0).$$\n",
    "4. **Test4**:\n",
    "    $$x(d) = x(0) + \\delta x(0).$$\n",
    "5. **Test5**:\n",
    "    $$x(d) = x(0) + \\delta x(-d).$$\n",
    "    \n",
    "### Remarks:\n",
    "- We will _march_ in time: `start_date` -> `end_date` in increments of `fcst_nDays`.\n",
    "- Above implies `end_date` **must** _fit_ with `nfcst`.\n",
    "- Check with Kristian Mogensen to be sure above `Persist initial anomaly` was done this way at ECMWF **before** coupled forecasts in IFS."
   ]
  },
  {
   "cell_type": "code",
   "execution_count": null,
   "id": "907fd301-c608-4d67-9bec-1ce2cac7d276",
   "metadata": {},
   "outputs": [],
   "source": [
    "fcst_nDays, nfcst = [10, 90]\n",
    "\n",
    "start_date, end_date = ['2023-06-01', '2023-09-01'] # end_date must fit above.\n",
    "\n",
    "data_path_real = \"/discover/nobackup/projects/gmao/advda/sakella/future_sst_fraci/GMAO_OPS_bin_data/data/\"\n",
    "data_path_clim = \"/discover/nobackup/projects/gmao/advda/sakella/future_sst_fraci/data/ncFiles/\"\n",
    "\n",
    "file_pref_real, file_suff = [\"sst_ice_\", \".nc\"]\n",
    "file_pref_clim, file_suff = [\"daily_clim_mean_sst_fraci_\", \".nc\"]\n",
    "\n",
    "# Select _forecast_ method\n",
    "#method = \"persist\" \n",
    "method = \"persist_init_anom\"\n",
    "#method = \"test3\"\n",
    "#method = \"test4\"\n",
    "\n",
    "vName = 'SST'"
   ]
  },
  {
   "cell_type": "markdown",
   "id": "f375a049-242f-4363-9b4e-d2421d6c7e87",
   "metadata": {},
   "source": [
    "## Dates of all forecasts"
   ]
  },
  {
   "cell_type": "code",
   "execution_count": null,
   "id": "43941bba-d909-4f6f-9175-a4cdb0b819aa",
   "metadata": {},
   "outputs": [],
   "source": [
    "# One forecast per day, since this is daily BCs.\n",
    "exp_dates  = pd.date_range(start_date, end_date, freq='D')"
   ]
  },
  {
   "cell_type": "markdown",
   "id": "b1894237-27c9-46a6-8728-f651042ea834",
   "metadata": {},
   "source": [
    "## Initialize arrays"
   ]
  },
  {
   "cell_type": "code",
   "execution_count": null,
   "id": "91b6f4e6-cebc-40a0-b2d7-09fe75dcf728",
   "metadata": {},
   "outputs": [],
   "source": [
    "mean_spatial_error = np.full((fcst_nDays, my_mask.shape[0], my_mask.shape[1]), 0.0)\n",
    "\n",
    "# With respect to real data -- remember, we _test_ in **hindcast** mode, so we know the _truth_.\n",
    "mean_error = np.zeros((fcst_nDays, nfcst), dtype=np.float64)\n",
    "sdev_error = np.zeros_like( mean_error)\n",
    "\n",
    "# With respect to daily climatology\n",
    "mean_error_clim = np.zeros((fcst_nDays, nfcst), dtype=np.float64)\n",
    "sdev_error_clim = np.zeros_like( mean_error_clim)\n",
    "\n",
    "if vName == 'FRACI':\n",
    "    mean_sh_real_error = np.zeros_like(mean_error); sdev_sh_real_error = np.zeros_like(mean_error)\n",
    "    mean_nh_real_error = np.zeros_like(mean_error); sdev_nh_real_error = np.zeros_like(mean_error)\n",
    "    \n",
    "    mean_sh_clim_error = np.zeros_like(mean_error); sdev_sh_clim_error = np.zeros_like(mean_error)\n",
    "    mean_nh_clim_error = np.zeros_like(mean_error); sdev_nh_clim_error = np.zeros_like(mean_error)"
   ]
  },
  {
   "cell_type": "markdown",
   "id": "0ba5c87b-efe6-4f73-a843-6e9734afc196",
   "metadata": {},
   "source": [
    "### Compute time-series of global mean and std dev"
   ]
  },
  {
   "cell_type": "code",
   "execution_count": null,
   "id": "d1e3e2ac-c678-4c97-b6b1-9910b1ac0218",
   "metadata": {},
   "outputs": [],
   "source": [
    "for ifcst in range(1, nfcst+1): # each forecast\n",
    "\n",
    "  fcst_start_date = exp_dates[0] + pd.DateOffset(days=ifcst-1)\n",
    "  fcst_dates = pd.date_range(start=fcst_start_date, periods=fcst_nDays)\n",
    "  print(\"Forecast [{}] Dates: {}\".format(ifcst,fcst_dates))\n",
    "\n",
    "  files_names_real_data = get_files_names(fcst_dates, data_path_real, file_pref_real)\n",
    "  clim_files_names      = get_files_names(fcst_dates, data_path_clim, file_pref_clim, clim=True)\n",
    "\n",
    "  ds_real = xr.open_mfdataset(files_names_real_data)\n",
    "  ds_clim = xr.open_mfdataset(clim_files_names, concat_dim='time', combine='nested', use_cftime=True)\n",
    "\n",
    "  for id in range(0, fcst_nDays): # over each day of forecast\n",
    "    if (vName == 'SST'):\n",
    "        real_bc = mask_array(ds_real, id); clim_bc = mask_array(ds_clim, id)\n",
    "    else:\n",
    "        real_bc = mask_array(ds_real, id, vName); clim_bc = mask_array(ds_clim, id, vName)\n",
    "\n",
    "    # save initial BC (SST/ICE)\n",
    "    if (id==0):\n",
    "      bc0 = real_bc; anom0 = bc0 - clim_bc\n",
    "   \n",
    "    predicted_bc = forecast_bc(method, id, bc0, clim_bc, anom0)\n",
    "    \n",
    "    error_real = predicted_bc - real_bc\n",
    "    error_clim = clim_bc - real_bc # difference from climatology- if clim was used\n",
    "        \n",
    "    mean_error[id,ifcst-1], sdev_error[id, ifcst-1] = unWeighted_mean_sdev(error_real)\n",
    "    mean_error_clim[id,ifcst-1], sdev_error_clim[id, ifcst-1] = unWeighted_mean_sdev(error_clim)\n",
    "  \n",
    "    if vName == 'FRACI':\n",
    "        sh_real = error_real[0:int(my_mask.shape[0]/2),:]; nh_real = error_real[int(my_mask.shape[0]/2)+1:,:]\n",
    "        sh_clim = error_clim[0:int(my_mask.shape[0]/2),:]; nh_clim = error_clim[int(my_mask.shape[0]/2)+1:,:]\n",
    "        \n",
    "        mean_sh_real_error[id,ifcst-1], sdev_sh_real_error[id, ifcst-1] = unWeighted_mean_sdev(sh_real)\n",
    "        mean_nh_real_error[id,ifcst-1], sdev_nh_real_error[id, ifcst-1] = unWeighted_mean_sdev(nh_real)\n",
    "        \n",
    "        mean_sh_clim_error[id,ifcst-1], sdev_sh_clim_error[id, ifcst-1] = unWeighted_mean_sdev(sh_clim)\n",
    "        mean_nh_clim_error[id,ifcst-1], sdev_nh_clim_error[id, ifcst-1] = unWeighted_mean_sdev(nh_clim)\n",
    "    \n",
    "    if (ifcst ==1): # first forecast\n",
    "        mean_spatial_error[id,:,:] = error_real\n",
    "    else:\n",
    "        mean_spatial_error[id,:,:] = mean_spatial_error[id,:,:] + error_real\n",
    "#    \n",
    "for id in range(0, fcst_nDays):\n",
    "    mean_spatial_error[id,:,:] = mean_spatial_error[id,:,:]/nfcst    "
   ]
  },
  {
   "cell_type": "markdown",
   "id": "b542e19c-363e-45e1-ba61-3faa658d9ae8",
   "metadata": {},
   "source": [
    "### Plot"
   ]
  },
  {
   "cell_type": "code",
   "execution_count": null,
   "id": "627715b9-cf6c-4e55-b0af-197d071ed427",
   "metadata": {},
   "outputs": [],
   "source": [
    "plt.figure( figsize=(12, 4))\n",
    "plt.subplot(121)\n",
    "for id in range(0, nfcst):\n",
    "  plt.plot(range(0, fcst_nDays), mean_error[:,id],      ls='-', c='b', alpha=0.05)\n",
    "  plt.plot(range(0, fcst_nDays), mean_error_clim[:,id], ls='-', c='k', alpha=0.05)\n",
    "\n",
    "x1 = np.zeros( (fcst_nDays), dtype=np.float64)\n",
    "x2 = np.zeros_like(x1)\n",
    "for id in range(0, fcst_nDays):\n",
    "    x1[id] = np.mean(mean_error[id,:],  dtype=np.float64)\n",
    "    x2[id] = np.mean(mean_error_clim[id,:],  dtype=np.float64)\n",
    "plt.plot(range(0, fcst_nDays), x1, ls='-', c='b', lw=2)\n",
    "plt.plot(range(0, fcst_nDays), x2, ls='-', c='k', lw=2)\n",
    "\n",
    "plt.title('Global mean error')\n",
    "plt.xlabel('Forecast days')\n",
    "plt.grid(True)\n",
    "plt.ylim(-0.5, 0.5)\n",
    "#\n",
    "plt.subplot(122)\n",
    "for id in range(0, nfcst):\n",
    "  plt.plot(range(0, fcst_nDays), sdev_error[:,id],      ls='-', c='b', alpha=0.5)\n",
    "  plt.plot(range(0, fcst_nDays), sdev_error_clim[:,id], ls='-', c='k', alpha=0.5)\n",
    "plt.title('SDEV of global mean error')\n",
    "plt.xlabel('Forecast days')\n",
    "plt.grid(True)\n",
    "plt.ylim(0., 1.0)    "
   ]
  },
  {
   "cell_type": "code",
   "execution_count": null,
   "id": "857fe44f-f0fb-44cc-bb7f-dae09cab20e6",
   "metadata": {},
   "outputs": [],
   "source": [
    "if vName == 'FRACI':\n",
    "    plt.figure( figsize=(12, 8))\n",
    "    \n",
    "    plt.subplot(221)\n",
    "    for id in range(0, nfcst):\n",
    "        plt.plot(range(0, fcst_nDays), mean_nh_real_error[:,id], ls='-', c='b', alpha=0.5)\n",
    "        plt.plot(range(0, fcst_nDays), mean_nh_clim_error[:,id], ls='-', c='k', alpha=0.5)\n",
    "    plt.title('NH mean (error)')\n",
    "    plt.grid(True)\n",
    "    plt.ylim(-0.025, 0.025)\n",
    "    \n",
    "    plt.subplot(222)\n",
    "    for id in range(0, nfcst):\n",
    "        plt.plot(range(0, fcst_nDays), sdev_nh_real_error[:,id], ls='-', c='b', alpha=0.5)\n",
    "        plt.plot(range(0, fcst_nDays), sdev_nh_clim_error[:,id], ls='-', c='k', alpha=0.5)\n",
    "    plt.title('NH SDEV (error)')\n",
    "    plt.grid(True)\n",
    "    plt.ylim(0., 0.1)\n",
    "    \n",
    "    plt.subplot(223)\n",
    "    for id in range(0, nfcst):\n",
    "        plt.plot(range(0, fcst_nDays), mean_sh_real_error[:,id], ls='-', c='b', alpha=0.5)\n",
    "        plt.plot(range(0, fcst_nDays), mean_sh_clim_error[:,id], ls='-', c='k', alpha=0.5)\n",
    "    plt.title('SH mean (error)')\n",
    "    plt.grid(True)\n",
    "    plt.xlabel('Forecast days')\n",
    "    plt.ylim(-0.025, 0.025)\n",
    "    \n",
    "    plt.subplot(224)\n",
    "    for id in range(0, nfcst):\n",
    "        plt.plot(range(0, fcst_nDays), sdev_sh_real_error[:,id], ls='-', c='b', alpha=0.5)\n",
    "        plt.plot(range(0, fcst_nDays), sdev_sh_clim_error[:,id], ls='-', c='k', alpha=0.5)\n",
    "    plt.title('SH SDEV (error)')\n",
    "    plt.xlabel('Forecast days')\n",
    "    plt.grid(True)\n",
    "    plt.ylim(0., 0.1) "
   ]
  },
  {
   "cell_type": "markdown",
   "id": "6d0cb1c0-f9f8-497a-8d39-a7d4760d0d57",
   "metadata": {},
   "source": [
    "### Calculate global mean in two different ways to make sure spatial mean is correct"
   ]
  },
  {
   "cell_type": "code",
   "execution_count": null,
   "id": "293ccf03-cd82-46e5-8210-d4cb3b3a2db2",
   "metadata": {},
   "outputs": [],
   "source": [
    "print(\"Forecast Day\\tGlobal Mean Error (time-series)\\tFrom spatial maps\\t Difference between the two methods\\n\")\n",
    "\n",
    "for id in range(0, fcst_nDays):\n",
    "    x1 = np.nanmean( mean_spatial_error[id,:,:], dtype=np.float64)\n",
    "    x2 = np.mean(mean_error[id,:], dtype=np.float64)\n",
    "    print(id+1,\"\\t\\t\",x1,\"\\t\\t\",x2,\"\\t\",x2-x1)\n",
    "    \n",
    "print(\"\\n--> If both methods give same answer, (last column == 0), all good!\")    "
   ]
  },
  {
   "cell_type": "code",
   "execution_count": null,
   "id": "c38785de-f901-43e2-86a6-ed3bf22c55f5",
   "metadata": {},
   "outputs": [],
   "source": [
    "if vName == 'SST':\n",
    "    cMin, cMax = [-1., 1.]\n",
    "else:\n",
    "    cMin, cMax = [-.2, .2]\n",
    "\n",
    "plt.figure( figsize=(16, 10))\n",
    "\n",
    "for id in range(0, fcst_nDays):\n",
    "    plt.subplot(4, 3, id+1)\n",
    "    plt.pcolormesh(land_sea_mask.lon.values, land_sea_mask.lat.values,\\\n",
    "                   mean_spatial_error[id,:,:], vmin=cMin, vmax=cMax, cmap=plt.cm.bwr)\n",
    "    plt.colorbar()\n",
    "    plt.title('day: {}'.format(id))"
   ]
  },
  {
   "cell_type": "markdown",
   "id": "1ca00a7a-105b-4062-addb-7628e336c041",
   "metadata": {},
   "source": [
    "## Save processed data (for later use)"
   ]
  },
  {
   "cell_type": "code",
   "execution_count": null,
   "id": "fddfc388-2a85-4802-9144-343f3c93fde5",
   "metadata": {},
   "outputs": [],
   "source": [
    "write_stats('mean_{}_error_'.format(vName) + method, mean_error)\n",
    "write_stats('sdev_{}_error_'.format(vName) + method, sdev_error)\n",
    "\n",
    "write_stats('mean_{}_error_clim_'.format(vName) + method, mean_error_clim)\n",
    "write_stats('sdev_{}_error_clim_'.format(vName) + method, sdev_error_clim)\n",
    "\n",
    "if vName == 'FRACI':\n",
    "    write_stats('mean_{}_nh_real_error_'.format(vName) + method, mean_nh_real_error)\n",
    "    write_stats('sdev_{}_nh_real_error_'.format(vName) + method, sdev_nh_real_error)\n",
    "    \n",
    "    write_stats('mean_{}_sh_real_error_'.format(vName) + method, mean_sh_real_error)\n",
    "    write_stats('sdev_{}_sh_real_error_'.format(vName) + method, sdev_sh_real_error)\n",
    "    \n",
    "    write_stats('mean_{}_nh_clim_error_'.format(vName) + method, mean_nh_clim_error)\n",
    "    write_stats('sdev_{}_nh_clim_error_'.format(vName) + method, sdev_nh_clim_error)\n",
    "    \n",
    "    write_stats('mean_{}_sh_clim_error_'.format(vName) + method, mean_sh_clim_error)\n",
    "    write_stats('sdev_{}_sh_clim_error_'.format(vName) + method, sdev_sh_clim_error)"
   ]
  },
  {
   "cell_type": "code",
   "execution_count": null,
   "id": "e3e405cc-ee09-4291-b2f1-8b5f6a5394a0",
   "metadata": {},
   "outputs": [],
   "source": [
    "da = xr.DataArray(data=mean_spatial_error, \n",
    "coords={'time': np.arange(0, fcst_nDays), 'lat': land_sea_mask.lat,'lon': land_sea_mask.lon}, \n",
    "dims=[\"time\", \"lat\", \"lon\"],\n",
    "attrs=dict(description=\"Mean of forecast error in BCs, see https://github.com/sanAkel/future_sst_fraci/blob/main/to_gen_new_files/SST_ideas.ipynb\"))\n",
    "\n",
    "ds_bc_err = da.to_dataset(name='{}_fcst_error'.format(vName))\n",
    "\n",
    "# vName = SST, FRACI\n",
    "#ds_bc_err.SST_fcst_error.plot(x=\"lon\", y=\"lat\", col=\"time\", col_wrap=3, vmin=cMin, vmax=cMax, cmap=plt.cm.bwr)\n",
    "#ds_bc_err.FRACI_fcst_error.plot(x=\"lon\", y=\"lat\", col=\"time\", col_wrap=3, vmin=cMin, vmax=cMax, cmap=plt.cm.bwr)\n",
    "\n",
    "ds_bc_err.to_netcdf(\"{}_mean_err_{}_{}_{}.nc\".format(vName, method, exp_dates[0].strftime('%Y%m%d'), exp_dates[-1].strftime('%Y%m%d')))"
   ]
  },
  {
   "cell_type": "markdown",
   "id": "114802ab-69e3-4f30-8794-47e22d3319aa",
   "metadata": {},
   "source": [
    "## Compute std dev for each of the `fcst_nDays` using all `nfcst` forecasts"
   ]
  },
  {
   "cell_type": "code",
   "execution_count": null,
   "id": "67766531-bc1d-4dfc-bf58-d01431998d15",
   "metadata": {},
   "outputs": [],
   "source": [
    "# Initialize\n",
    "sdev_spatial_error = np.zeros_like(mean_spatial_error)\n",
    "sum_sq_spatial_error = np.zeros_like(mean_spatial_error)"
   ]
  },
  {
   "cell_type": "code",
   "execution_count": null,
   "id": "69c97ebf-39f2-4bcf-be24-8caa2a03337b",
   "metadata": {},
   "outputs": [],
   "source": [
    "for ifcst in range(1, nfcst+1): # each forecast\n",
    "\n",
    "  fcst_start_date = exp_dates[0] + pd.DateOffset(days=ifcst-1)\n",
    "  fcst_dates = pd.date_range(start=fcst_start_date, periods=fcst_nDays)\n",
    "  print(\"Forecast [{}] Dates: {}\".format(ifcst,fcst_dates))\n",
    "\n",
    "  files_names_real_data = get_files_names(fcst_dates, data_path_real, file_pref_real)\n",
    "  clim_files_names      = get_files_names(fcst_dates, data_path_clim, file_pref_clim, clim=True)\n",
    "\n",
    "  ds_real = xr.open_mfdataset(files_names_real_data)\n",
    "  ds_clim = xr.open_mfdataset(clim_files_names, concat_dim='time', combine='nested', use_cftime=True)\n",
    "\n",
    "  for id in range(0, fcst_nDays): # over each day of forecast\n",
    "    if (vName == 'SST'):\n",
    "        real_bc = mask_array(ds_real, id); clim_bc = mask_array(ds_clim, id)\n",
    "    else:\n",
    "        real_bc = mask_array(ds_real, id, vName); clim_bc = mask_array(ds_clim, id, vName)\n",
    "\n",
    "    # save initial BC (SST/ICE)\n",
    "    if (id==0):\n",
    "      bc0 = real_bc; anom0 = bc0 - clim_bc\n",
    "   \n",
    "    predicted_bc = forecast_bc(method, id, bc0, clim_bc, anom0) \n",
    "    error_real = predicted_bc - real_bc\n",
    "    \n",
    "    if (ifcst ==1): # first forecast\n",
    "        sum_sq_spatial_error[id,:,:] = (error_real-mean_spatial_error[id,:,:])**2.\n",
    "    else:\n",
    "        sum_sq_spatial_error[id,:,:] = sum_sq_spatial_error[id,:,:] + (error_real-mean_spatial_error[id,:,:])**2.\n",
    "#    \n",
    "for id in range(0, fcst_nDays):\n",
    "    sdev_spatial_error[id,:,:] = np.sqrt(sum_sq_spatial_error[id,:,:]/(nfcst-1)) # sample (n-1), not population (n).  "
   ]
  },
  {
   "cell_type": "code",
   "execution_count": null,
   "id": "21dae506-894b-4fd4-9b30-0f13a590ee98",
   "metadata": {},
   "outputs": [],
   "source": [
    "if vName == 'SST':\n",
    "    cMin, cMax = [0.05, 2.]\n",
    "else:\n",
    "    cMin, cMax = [0.01, .5]\n",
    "\n",
    "plt.figure( figsize=(16, 10))\n",
    "\n",
    "for id in range(0, fcst_nDays):\n",
    "    plt.subplot(4, 3, id+1)\n",
    "    plt.pcolormesh(land_sea_mask.lon.values, land_sea_mask.lat.values,\\\n",
    "                   sdev_spatial_error[id,:,:], vmin=cMin, vmax=cMax, cmap=plt.cm.Spectral_r)\n",
    "    plt.colorbar()\n",
    "    plt.title('day: {}'.format(id))"
   ]
  },
  {
   "cell_type": "code",
   "execution_count": null,
   "id": "6b1366de-4ef6-4ba4-81f8-a5d68099fa58",
   "metadata": {},
   "outputs": [],
   "source": [
    "da = xr.DataArray(data=sdev_spatial_error, \n",
    "coords={'time': np.arange(0, fcst_nDays), 'lat': land_sea_mask.lat,'lon': land_sea_mask.lon}, \n",
    "dims=[\"time\", \"lat\", \"lon\"],\n",
    "attrs=dict(description=\"Standard deviation of forecast error in BCs, see https://github.com/sanAkel/future_sst_fraci/blob/main/to_gen_new_files/SST_ideas.ipynb\"))\n",
    "\n",
    "ds_bc_err = da.to_dataset(name='{}_fcst_error'.format(vName))\n",
    "\n",
    "# vName = SST, FRACI\n",
    "#ds_bc_err.SST_fcst_error.plot(x=\"lon\", y=\"lat\", col=\"time\", col_wrap=3, vmin=cMin, vmax=cMax, cmap=plt.cm.Spectral_r)\n",
    "#ds_bc_err.FRACI_fcst_error.plot(x=\"lon\", y=\"lat\", col=\"time\", col_wrap=3, vmin=cMin, vmax=cMax, cmap=plt.cm.Spectral_r)\n",
    "\n",
    "ds_bc_err.to_netcdf(\"{}_sdev_err_{}_{}_{}.nc\".format(vName, method, exp_dates[0].strftime('%Y%m%d'), exp_dates[-1].strftime('%Y%m%d')))"
   ]
  }
 ],
 "metadata": {
  "kernelspec": {
   "display_name": "Min4.11.0",
   "language": "python",
   "name": "min4.11.0"
  },
  "language_info": {
   "codemirror_mode": {
    "name": "ipython",
    "version": 3
   },
   "file_extension": ".py",
   "mimetype": "text/x-python",
   "name": "python",
   "nbconvert_exporter": "python",
   "pygments_lexer": "ipython3",
   "version": "3.9.12"
  }
 },
 "nbformat": 4,
 "nbformat_minor": 5
}
