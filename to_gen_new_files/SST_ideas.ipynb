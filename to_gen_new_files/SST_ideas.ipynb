{
 "cells": [
  {
   "cell_type": "markdown",
   "id": "c68b01df-87a5-4bb0-95fd-b6685495f34b",
   "metadata": {},
   "source": [
    "## Test different ideas for generating _future_ Boundary Conditions (BCs):\n",
    "- SST\n",
    "- Ice concentration"
   ]
  },
  {
   "cell_type": "markdown",
   "id": "8457dbcf-fe71-4b9c-9fa1-b8ea5fdbac7b",
   "metadata": {},
   "source": [
    "### Needed modules"
   ]
  },
  {
   "cell_type": "code",
   "execution_count": null,
   "id": "ecc29285-3ce3-4022-9e56-63c67f14fb4d",
   "metadata": {},
   "outputs": [],
   "source": [
    "import numpy as np\n",
    "import pandas as pd\n",
    "import xarray as xr\n",
    "import matplotlib.pyplot as plt\n",
    "\n",
    "%matplotlib inline"
   ]
  },
  {
   "cell_type": "markdown",
   "id": "a78f79f9-4575-4603-8a69-223d0ef8bf2d",
   "metadata": {},
   "source": [
    "## To apply land-sea mask"
   ]
  },
  {
   "cell_type": "code",
   "execution_count": null,
   "id": "0aa98aaf-a9e5-488c-af71-53336d9034aa",
   "metadata": {},
   "outputs": [],
   "source": [
    "land_sea_mask = xr.open_dataset(\"/discover/nobackup/projects/gmao/advda/sakella/future_sst_fraci/gen_daily_clim_data/data/geos_fp_bcs_land_sea_mask.nc\")\n",
    "my_mask = land_sea_mask.land_mask.values"
   ]
  },
  {
   "cell_type": "markdown",
   "id": "f2aed75d-06d2-4b20-83f1-bf35d98b0dfb",
   "metadata": {},
   "source": [
    "### Local functions"
   ]
  },
  {
   "cell_type": "code",
   "execution_count": null,
   "id": "55509d5b-8ca8-4b0d-b34f-8e7a222aa89b",
   "metadata": {},
   "outputs": [],
   "source": [
    "# file names: real data and daily climatology\n",
    "def get_files_names(dates, data_path, file_pref, clim=False, file_suff=\".nc\"):\n",
    "   files_to_read = []\n",
    "   for idate in dates:\n",
    "\n",
    "     if (clim==False): # real data\n",
    "       ff = data_path + str(idate.year) + \"/\" +\\\n",
    "            file_pref + str(idate.year) + str(idate.month).zfill(2) + str(idate.day).zfill(2) +\\\n",
    "            file_suff\n",
    "     else:\n",
    "       ff = data_path + \"/\"+\\\n",
    "            file_pref + \"0001\" + str(idate.month).zfill(2) + str(idate.day).zfill(2) +\\\n",
    "            file_suff\n",
    "\n",
    "     #print(ff)\n",
    "     files_to_read.append(ff)\n",
    "   return files_to_read\n",
    "\n",
    "# We need to mask out land\n",
    "def apply_mask( input_field, mask, tol=0.1):\n",
    "  output_field = np.copy( input_field)\n",
    "  output_field [mask<tol] = np.nan\n",
    "  return output_field\n",
    "\n",
    "# mask land\n",
    "def mask_array(ds, iTime, vName='SST', mask=my_mask):\n",
    "    arr = ds[vName].isel(time=iTime).values\n",
    "    masked_arr=apply_mask(arr, mask)\n",
    "    return masked_arr\n",
    "\n",
    "# to write forecast stats\n",
    "def write_stats(vName, var):\n",
    "    f1 = vName + \"_{}_{}.csv\".format(exp_dates[0].strftime('%Y%m%d'), exp_dates[-1].strftime('%Y%m%d'))\n",
    "    print(\"Writing out: \", f1)\n",
    "    np.savetxt(f1, (var), delimiter=\",\", fmt='%1.4f')\n",
    "    print(\"Done!\")"
   ]
  },
  {
   "cell_type": "markdown",
   "id": "947e7ca8-7a3f-46ef-b80c-88cb8086d1b5",
   "metadata": {},
   "source": [
    "# User set arguments\n",
    "\n",
    "| variable | What is it? |\n",
    "| :--      | --:         |\n",
    "| fcst_nDays | Typical number of days of a single forecast |\n",
    "| nfcst | How many forecasts should we try |\n",
    "| vName | Name of Boundary Condition (BC): `SST` or `FRACI` |\n",
    "| start_date | Start date of ALL the forecasts |\n",
    "| end_date   | End date of ALL the forecasts |\n",
    "| data_path_real | Path to `netcdf` version of **daily** GMAO OPS SST and sea ice boundary conditions (BCs)|\n",
    "| data_path_clim | Path to daily climatology of GMAO OPS BCs, based on 2007- 2023 |\n",
    "\n",
    "## Methods:\n",
    "1. **Persist**: Use BC of first day ($x0$) of forecast for all `fcst_nDays`\n",
    "    $$x(d) = x(0)\\,\\, \\forall d > 0.$$\n",
    "2. **Persist initial anomaly**: Persist anomaly (with respect to daily clim: $\\bar{x}$) of $x(0)$ for for all `fcst_nDays`\n",
    "    $$\\delta x(d) = x(d) - \\bar{x}(d) \\, \\forall d, $$\n",
    "    $$x(d) = \\bar{x}(d) + \\delta x(0)\\,\\, \\forall d > 0.$$\n",
    "3. **Test3**: See below!\n",
    "    $$x(d) = \\bar{x}(d) - \\delta x(0).$$\n",
    "4. **Test4**:\n",
    "    $$x(d) = x(0) + \\delta x(0).$$\n",
    "5. **Test5**:\n",
    "    $$x(d) = x(0) + \\delta x(-d).$$\n",
    "    \n",
    "### Remarks:\n",
    "- We will _march_ in time: `start_date` -> `end_date` in increments of `fcst_nDays`.\n",
    "- Above implies `end_date` **must** _fit_ with `nfcst`.\n",
    "- Check with Kristian Mogensen to be sure above `Persist initial anomaly` was done this way at ECMWF **before** coupled forecasts in IFS."
   ]
  },
  {
   "cell_type": "code",
   "execution_count": null,
   "id": "907fd301-c608-4d67-9bec-1ce2cac7d276",
   "metadata": {},
   "outputs": [],
   "source": [
    "fcst_nDays, nfcst = [10, 90]\n",
    "\n",
    "start_date, end_date = ['2023-06-01', '2023-09-01'] # end_date must fit above.\n",
    "\n",
    "data_path_real = \"/discover/nobackup/projects/gmao/advda/sakella/future_sst_fraci/GMAO_OPS_bin_data/data/\"\n",
    "data_path_clim = \"/discover/nobackup/projects/gmao/advda/sakella/future_sst_fraci/data/ncFiles/\"\n",
    "\n",
    "file_pref_real, file_suff = [\"sst_ice_\", \".nc\"]\n",
    "file_pref_clim, file_suff = [\"daily_clim_mean_sst_fraci_\", \".nc\"]\n",
    "\n",
    "# Select _forecast_ method\n",
    "method = \"persist\" \n",
    "#method = \"persist_init_anom\"\n",
    "#method = \"test3\"\n",
    "#method = \"test4\"\n",
    "\n",
    "vName = 'SST'"
   ]
  },
  {
   "cell_type": "markdown",
   "id": "f375a049-242f-4363-9b4e-d2421d6c7e87",
   "metadata": {},
   "source": [
    "## Dates of all forecasts"
   ]
  },
  {
   "cell_type": "code",
   "execution_count": null,
   "id": "43941bba-d909-4f6f-9175-a4cdb0b819aa",
   "metadata": {},
   "outputs": [],
   "source": [
    "# One forecast per day, since this is daily BCs.\n",
    "exp_dates  = pd.date_range(start_date, end_date, freq='D')"
   ]
  },
  {
   "cell_type": "markdown",
   "id": "b1894237-27c9-46a6-8728-f651042ea834",
   "metadata": {},
   "source": [
    "## Initialize arrays that hold mean and std dev"
   ]
  },
  {
   "cell_type": "code",
   "execution_count": null,
   "id": "91b6f4e6-cebc-40a0-b2d7-09fe75dcf728",
   "metadata": {},
   "outputs": [],
   "source": [
    "# With respect to real data -- remember, we _test_ in **hindcast** mode, so we know the _truth_.\n",
    "\n",
    "mean_error = np.zeros((fcst_nDays, nfcst), dtype=np.float64)\n",
    "sdev_error = np.zeros_like( mean_error)\n",
    "\n",
    "mean_spatial_error = np.full((fcst_nDays, my_mask.shape[0], my_mask.shape[1]), 0.0)\n",
    "\n",
    "# With respect to daily climatology\n",
    "mean_error_clim = np.zeros((fcst_nDays, nfcst), dtype=np.float64)\n",
    "sdev_error_clim = np.zeros_like( mean_error_clim)"
   ]
  },
  {
   "cell_type": "markdown",
   "id": "0ba5c87b-efe6-4f73-a843-6e9734afc196",
   "metadata": {},
   "source": [
    "## Compute"
   ]
  },
  {
   "cell_type": "code",
   "execution_count": null,
   "id": "d1e3e2ac-c678-4c97-b6b1-9910b1ac0218",
   "metadata": {},
   "outputs": [],
   "source": [
    "for ifcst in range(1, nfcst+1): # each forecast\n",
    "\n",
    "  fcst_start_date = exp_dates[0] + pd.DateOffset(days=ifcst-1)\n",
    "  fcst_dates = pd.date_range(start=fcst_start_date, periods=fcst_nDays)\n",
    "  print(\"Forecast [{}] Dates: {}\".format(ifcst,fcst_dates))\n",
    "\n",
    "  files_names_real_data = get_files_names(fcst_dates, data_path_real, file_pref_real)\n",
    "  clim_files_names      = get_files_names(fcst_dates, data_path_clim, file_pref_clim, clim=True)\n",
    "\n",
    "  ds_real = xr.open_mfdataset(files_names_real_data)\n",
    "  ds_clim = xr.open_mfdataset(clim_files_names, concat_dim='time', combine='nested', use_cftime=True)\n",
    "\n",
    "  for id in range(0, fcst_nDays): # over each day of forecast\n",
    "    if (vName == 'SST'):\n",
    "        real_bc = mask_array(ds_real, id); clim_bc = mask_array(ds_clim, id)\n",
    "    else:\n",
    "        real_bc = mask_array(ds_real, id, vName); clim_bc = mask_array(ds_clim, id, vName)\n",
    "\n",
    "    # save initial BC (SST/ICE)\n",
    "    if (id==0):\n",
    "      bc0  = real_bc; anam0 = bc0 - clim_bc\n",
    "\n",
    "    predicted_bc = np.zeros_like(bc0) # init to be safe!    \n",
    "\n",
    "    if method == \"persist\":\n",
    "        predicted_bc = bc0 # persistence throughout the forecast\n",
    "    elif method == \"persist_init_anom\":\n",
    "        if (id==0):\n",
    "            predicted_bc = bc0 # forecast start day\n",
    "        else:\n",
    "            predicted_bc = clim_bc + anam0\n",
    "    elif method == \"test3\":\n",
    "        if (id==0):\n",
    "            predicted_bc = bc0 # forecast start day\n",
    "        else:\n",
    "            predicted_bc = clim_bc - anam0\n",
    "    elif method == \"test4\":\n",
    "        if (id==0):\n",
    "            predicted_bc = bc0 # forecast start day\n",
    "        else:\n",
    "            predicted_bc = bc0 + anam0         \n",
    "    else:\n",
    "        print(\"Uknown method: {} for creating future BCs.\".format(method))\n",
    "    \n",
    "    error_real = predicted_bc - real_bc\n",
    "    error_clim = clim_bc - real_bc # difference from climatology- if clim was used\n",
    "    \n",
    "    # unweighted global mean and std. dev. <-- add weighting\n",
    "    mean_error[id,ifcst-1], sdev_error[id, ifcst-1] =\\\n",
    "    [np.nanmean(error_real.flatten(), dtype=np.float64), np.nanstd(error_real.flatten(), dtype=np.float64)]\n",
    "\n",
    "    mean_error_clim[id,ifcst-1], sdev_error_clim[id, ifcst-1] =\\\n",
    "    [np.nanmean(error_clim.flatten(), dtype=np.float64), np.nanstd(error_clim.flatten(), dtype=np.float64)]\n",
    "    \n",
    "    if (ifcst ==1): # first forecast\n",
    "        mean_spatial_error[id,:,:] = error_real\n",
    "    else:\n",
    "        mean_spatial_error[id,:,:] = mean_spatial_error[id,:,:] + error_real\n",
    "#    \n",
    "for id in range(0, fcst_nDays):\n",
    "    mean_spatial_error[id,:,:] = mean_spatial_error[id,:,:]/nfcst    "
   ]
  },
  {
   "cell_type": "markdown",
   "id": "b542e19c-363e-45e1-ba61-3faa658d9ae8",
   "metadata": {},
   "source": [
    "### Plot"
   ]
  },
  {
   "cell_type": "code",
   "execution_count": null,
   "id": "627715b9-cf6c-4e55-b0af-197d071ed427",
   "metadata": {},
   "outputs": [],
   "source": [
    "plt.figure( figsize=(12, 4))\n",
    "plt.subplot(121)\n",
    "for id in range(0, nfcst):\n",
    "  plt.plot(range(0, fcst_nDays), mean_error[:,id],      ls='-', c='b')\n",
    "  plt.plot(range(0, fcst_nDays), mean_error_clim[:,id], ls='-', c='k')\n",
    "plt.title('Global mean error')\n",
    "plt.xlabel('Forecast days')\n",
    "plt.grid(True)\n",
    "plt.ylim(-0.2, 0.2)\n",
    "#\n",
    "plt.subplot(122)\n",
    "for id in range(0, nfcst):\n",
    "  plt.plot(range(0, fcst_nDays), sdev_error[:,id],      ls='-', c='b')\n",
    "  plt.plot(range(0, fcst_nDays), sdev_error_clim[:,id], ls='-', c='k')\n",
    "plt.title('SDEV of global mean error')\n",
    "plt.xlabel('Forecast days')\n",
    "plt.grid(True)\n",
    "plt.ylim(0., 1.0)"
   ]
  },
  {
   "cell_type": "code",
   "execution_count": null,
   "id": "c38785de-f901-43e2-86a6-ed3bf22c55f5",
   "metadata": {},
   "outputs": [],
   "source": [
    "if vName == 'SST':\n",
    "    cMin, cMax = [-1., 1.]\n",
    "else:\n",
    "    cMin, cMax = [-.2, .2]\n",
    "\n",
    "plt.figure( figsize=(16, 10))\n",
    "\n",
    "for id in range(0, fcst_nDays):\n",
    "    plt.subplot(4, 3, id+1)\n",
    "    plt.pcolormesh(land_sea_mask.lon.values, land_sea_mask.lat.values,\\\n",
    "                   mean_spatial_error[id,:,:], vmin=cMin, vmax=cMax, cmap=plt.cm.bwr)\n",
    "    plt.colorbar()\n",
    "    plt.title('day: {}'.format(id))"
   ]
  },
  {
   "cell_type": "markdown",
   "id": "1ca00a7a-105b-4062-addb-7628e336c041",
   "metadata": {},
   "source": [
    "## Save processed data (for later use)"
   ]
  },
  {
   "cell_type": "code",
   "execution_count": null,
   "id": "fddfc388-2a85-4802-9144-343f3c93fde5",
   "metadata": {},
   "outputs": [],
   "source": [
    "write_stats('mean_{}_error_'.format(vName) + method, mean_error)\n",
    "write_stats('sdev_{}_error_'.format(vName) + method, sdev_error)\n",
    "\n",
    "write_stats('mean_{}_error_clim_'.format(vName) + method, mean_error_clim)\n",
    "write_stats('sdev_{}_error_clim_'.format(vName) + method, sdev_error_clim)"
   ]
  },
  {
   "cell_type": "code",
   "execution_count": null,
   "id": "e3e405cc-ee09-4291-b2f1-8b5f6a5394a0",
   "metadata": {},
   "outputs": [],
   "source": [
    "da = xr.DataArray(data=mean_spatial_error, \n",
    "coords={'time': np.arange(0, fcst_nDays), 'lat': land_sea_mask.lat,'lon': land_sea_mask.lon}, \n",
    "dims=[\"time\", \"lat\", \"lon\"],\n",
    "attrs=dict(description=\"Mean of forecast error in BCs, see https://github.com/sanAkel/future_sst_fraci/blob/main/to_gen_new_files/SST_ideas.ipynb\"))\n",
    "\n",
    "ds_bc_err = da.to_dataset(name='{}_fcst_error'.format(vName))\n",
    "\n",
    "# vName = SST, FRACI\n",
    "#ds_bc_err.SST_fcst_error.plot(x=\"lon\", y=\"lat\", col=\"time\", col_wrap=3, vmin=cMin, vmax=cMax, cmap=plt.cm.bwr)\n",
    "#ds_bc_err.FRACI_fcst_error.plot(x=\"lon\", y=\"lat\", col=\"time\", col_wrap=3, vmin=cMin, vmax=cMax, cmap=plt.cm.bwr)\n",
    "\n",
    "ds_bc_err.to_netcdf(\"{}_fcst_err_{}_{}_{}.nc\".format(vName, method, exp_dates[0].strftime('%Y%m%d'), exp_dates[-1].strftime('%Y%m%d')))"
   ]
  }
 ],
 "metadata": {
  "kernelspec": {
   "display_name": "Min4.11.0",
   "language": "python",
   "name": "min4.11.0"
  },
  "language_info": {
   "codemirror_mode": {
    "name": "ipython",
    "version": 3
   },
   "file_extension": ".py",
   "mimetype": "text/x-python",
   "name": "python",
   "nbconvert_exporter": "python",
   "pygments_lexer": "ipython3",
   "version": "3.9.12"
  }
 },
 "nbformat": 4,
 "nbformat_minor": 5
}
