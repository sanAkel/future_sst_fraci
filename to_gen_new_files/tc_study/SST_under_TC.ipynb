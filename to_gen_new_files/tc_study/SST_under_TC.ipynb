{
 "cells": [
  {
   "cell_type": "code",
   "execution_count": null,
   "id": "9fa43476-cfa5-4bf4-89f0-b7de4f7280ab",
   "metadata": {},
   "outputs": [],
   "source": [
    "import numpy as np\n",
    "import pandas as pd\n",
    "import xarray as xr\n",
    "\n",
    "import cartopy.crs as ccrs\n",
    "import cartopy.feature as cfeature\n",
    "\n",
    "import matplotlib.pyplot as plt\n",
    "\n",
    "%matplotlib inline\n",
    "\n",
    "# To avoid warning messages\n",
    "import warnings\n",
    "warnings.filterwarnings('ignore')"
   ]
  },
  {
   "cell_type": "markdown",
   "id": "eb192806-5620-42f3-a51a-80158daa1a69",
   "metadata": {},
   "source": [
    "### Local functions"
   ]
  },
  {
   "cell_type": "code",
   "execution_count": null,
   "id": "38c60608-ae5c-41ef-ab04-02fbc3c2ce65",
   "metadata": {},
   "outputs": [],
   "source": [
    "def get_real_data_fName(year, date_yyyymmdd, data_path_real=\"/discover/nobackup/projects/gmao/advda/sakella/future_sst_fraci/GMAO_OPS_bin_data/data/\", file_pref_real=\"sst_ice_\", file_suff=\".nc\"):\n",
    "    fName = data_path_real + str(year) + \"/\" + file_pref_real + \"{}\".format(date_yyyymmdd) + file_suff\n",
    "    return fName\n",
    "\n",
    "def get_real_data(fName, lat0, lon0, vName=\"SST\"):\n",
    "    real_data = xr.open_dataset(fName)[vName].sel(lat=lat0, lon=lon0, method='nearest').values\n",
    "    return real_data"
   ]
  },
  {
   "cell_type": "markdown",
   "id": "2afed568-26ba-4ffe-abdc-ee4e8410a5f0",
   "metadata": {},
   "source": [
    "## Read pre-processed storm info."
   ]
  },
  {
   "cell_type": "code",
   "execution_count": null,
   "id": "707431a7-0d8a-41b3-93be-63465a0c7533",
   "metadata": {},
   "outputs": [],
   "source": [
    "# Year and name of storm (in that year)\n",
    "year = 2023\n",
    "\n",
    "tc_name = 'franklin'\n",
    "#tc_name = 'idalia'\n",
    "#tc_name = 'lee'\n",
    "\n",
    "ds_tc= xr.open_dataset(tc_name+ str(year)+'.nc')\n",
    "\n",
    "start_date = str(ds_tc['time'][0].dt.strftime(\"%Y-%m-%d\").values)\n",
    "end_date = str(ds_tc['time'][-1].dt.strftime(\"%Y-%m-%d\").values)\n",
    "\n",
    "print(\"\\nHurricane:\\t{} originated on:\\t{},\\t dissipated on:\\t{}.\\n\".format(tc_name.upper(), start_date, end_date))"
   ]
  },
  {
   "cell_type": "markdown",
   "id": "70a91f9d-d70b-48aa-b775-cd9fc05bcf8f",
   "metadata": {},
   "source": [
    "## Get the real SST along the TC track.\n",
    "- The TC _moves_! \n",
    "- Therefore at any time, it has a specific location. \n",
    "- At that coordinate (time, position), we know the true SST (because we are in hindcast mode)."
   ]
  },
  {
   "cell_type": "code",
   "execution_count": null,
   "id": "3d6314cb-515a-4c1a-bbaf-57c672994fe7",
   "metadata": {},
   "outputs": [],
   "source": [
    "real_sst = np.zeros( (ds_tc['time'].shape[0]), dtype=np.float32)\n",
    "\n",
    "for id in range(0, ds_tc['time'].shape[0]):\n",
    "    fName_real_data= get_real_data_fName(year, str(ds_tc['time'][id].dt.strftime(\"%Y%m%d\").values))\n",
    "    real_sst[id] = get_real_data(fName_real_data, ds_tc['lat'].values[id], ds_tc['lon'].values[id])\n",
    "\n",
    "ds_tc = ds_tc.assign(sst=(['time'],real_sst)) # add SST to dataset- make life easy! "
   ]
  },
  {
   "cell_type": "markdown",
   "id": "95a22a5e-4a4e-4a26-bae9-35aae361bbf2",
   "metadata": {},
   "source": [
    "## Plot the SST along TC track"
   ]
  },
  {
   "cell_type": "code",
   "execution_count": null,
   "id": "2f986261-fc7a-4f04-bc6a-82a776db4443",
   "metadata": {},
   "outputs": [],
   "source": [
    "fig, ax1 = plt.subplots(figsize=(8,6))\n",
    "ax2 = ax1.twinx()\n",
    "\n",
    "ds_tc.sst.plot.line(ax=ax1,  c='b', ls='-', label='real SST')\n",
    "ds_tc.mslp.plot.line(ax=ax2, c='r', ls='-', label='MSLP')\n",
    "\n",
    "ax1.set_ylabel('SST ($^\\circ$K)',  c='b', fontsize=14, weight='bold')\n",
    "ax1.tick_params(axis='y', labelcolor='b')\n",
    "\n",
    "ax2.set_ylabel('MSLP (hPa)', c='r', fontsize=14,weight='bold')\n",
    "ax2.tick_params(axis='y', labelcolor='r')\n",
    "\n",
    "ax1.set_title('{} {}'.format(tc_name.upper(),year), fontsize=15)"
   ]
  },
  {
   "cell_type": "markdown",
   "id": "cf8432ea-576e-4592-b99e-c817c5fee075",
   "metadata": {},
   "source": [
    "## Get predicted SST as the TC advances in time.\n",
    "### From any given date, we know _predict_ `fcst_nDays` [=10] days into future.\n",
    "### As the TC advances in time, data for _past_ days is filled with _real_ data."
   ]
  },
  {
   "cell_type": "code",
   "execution_count": null,
   "id": "6c38f610-5a9b-4f85-bfcc-4a70defdc9b4",
   "metadata": {},
   "outputs": [],
   "source": [
    "fcst_nDays = 10\n",
    "exp_dates  = pd.date_range(str(start_date), end_date, freq='D') # Forecast from: TC start date to the end date\n",
    "nfcst = exp_dates.shape[0]\n",
    "predicted_sst = np.full( (nfcst, ds_tc['time'].shape[0]), np.nan, dtype=np.float32)\n",
    "\n",
    "for ifcst in range(1, nfcst+1): # each forecast\n",
    "    # Each forecast is [fcst_nDays] = 10-days long\n",
    "    fcst_dates = pd.date_range(start=exp_dates[0]+pd.DateOffset(days=ifcst-1), periods=fcst_nDays)\n",
    "    fcst_start_date = fcst_dates[0].strftime(\"%Y%m%d\")\n",
    "    print(\"Forecast [{}] start date: {}\".format(ifcst,fcst_start_date))\n",
    "    \n",
    "    index_start = np.where(ds_tc.time > fcst_dates[0])[0][0]\n",
    "    past_indx   = np.arange(0, index_start) # --> real SST\n",
    "    future_indx = np.arange(index_start, ds_tc['time'].shape[0]+1) # --> predicted SST\n",
    "    \n",
    "    #print(\"PAST\", past_indx) # --> We know it.\n",
    "    for id in range(0, past_indx.shape[0]):\n",
    "        predicted_sst[ifcst-1, id] = real_sst[id]\n",
    "\n",
    "    #print(\"FUTURE\", future_indx[0], future_indx[-1]) # --> Unknown, predict SST.    \n",
    "    fName_real_data= get_real_data_fName(year, str(ds_tc.time[future_indx[0]].dt.strftime(\"%Y%m%d\").values))\n",
    "    for id in range(future_indx[0], future_indx[-1]):\n",
    "        predicted_sst[ifcst-1, id] = get_real_data(fName_real_data, ds_tc['lat'].values[id], ds_tc['lon'].values[id])"
   ]
  },
  {
   "cell_type": "markdown",
   "id": "64139604-9bad-4ef1-84b8-2b31b5d42f8d",
   "metadata": {},
   "source": [
    "## Plot real and predicted data"
   ]
  },
  {
   "cell_type": "code",
   "execution_count": null,
   "id": "bad46354-025c-4d37-a504-ae7cb7b1051c",
   "metadata": {},
   "outputs": [],
   "source": [
    "plt.figure( figsize=(16,8))\n",
    "\n",
    "ds_tc.sst.plot.line(ls='-', lw=4, _labels=False, add_legend=True, label='REAL')\n",
    "for ifcst in range(0, nfcst):\n",
    "    plt.plot_date(ds_tc.time, predicted_sst[ifcst,:], ls='-', marker=None, label='FCST {}'.format(str(ifcst).zfill(2)))\n",
    "plt.legend(ncol=5)\n",
    "plt.ylabel('SST [$^\\circ$K]', fontsize=12)"
   ]
  }
 ],
 "metadata": {
  "kernelspec": {
   "display_name": "Min4.11.0",
   "language": "python",
   "name": "min4.11.0"
  },
  "language_info": {
   "codemirror_mode": {
    "name": "ipython",
    "version": 3
   },
   "file_extension": ".py",
   "mimetype": "text/x-python",
   "name": "python",
   "nbconvert_exporter": "python",
   "pygments_lexer": "ipython3",
   "version": "3.9.12"
  }
 },
 "nbformat": 4,
 "nbformat_minor": 5
}
