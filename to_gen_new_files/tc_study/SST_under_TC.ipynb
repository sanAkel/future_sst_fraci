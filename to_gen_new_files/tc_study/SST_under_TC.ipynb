{
 "cells": [
  {
   "cell_type": "code",
   "execution_count": null,
   "id": "9fa43476-cfa5-4bf4-89f0-b7de4f7280ab",
   "metadata": {},
   "outputs": [],
   "source": [
    "import numpy as np\n",
    "import pandas as pd\n",
    "import xarray as xr\n",
    "\n",
    "import cartopy.crs as ccrs\n",
    "import cartopy.feature as cfeature\n",
    "\n",
    "import matplotlib.pyplot as plt\n",
    "\n",
    "%matplotlib inline\n",
    "\n",
    "# To avoid warning messages\n",
    "import warnings\n",
    "warnings.filterwarnings('ignore')"
   ]
  },
  {
   "cell_type": "markdown",
   "id": "eb192806-5620-42f3-a51a-80158daa1a69",
   "metadata": {},
   "source": [
    "### Local functions"
   ]
  },
  {
   "cell_type": "code",
   "execution_count": null,
   "id": "38c60608-ae5c-41ef-ab04-02fbc3c2ce65",
   "metadata": {},
   "outputs": [],
   "source": [
    "def get_real_data_fName(year, date_yyyymmdd, path_real=\"/discover/nobackup/projects/gmao/advda/sakella/future_sst_fraci/GMAO_OPS_bin_data/data/\", pref=\"sst_ice_\", suff=\".nc\"):\n",
    "    fName = path_real + str(year) + \"/\" + pref + \"{}\".format(date_yyyymmdd) + suff\n",
    "    return fName\n",
    "\n",
    "def get_clim_data_fName(date_mmdd, path_clim=\"/discover/nobackup/projects/gmao/advda/sakella/future_sst_fraci/data/ncFiles/\", pref=\"daily_clim_mean_sst_fraci_\", suff=\".nc\"):\n",
    "    fName = path_clim + \"/\" + pref + \"0001{}\".format(date_mmdd) + suff\n",
    "    return fName\n",
    "\n",
    "def get_sst(data_arr, lat0, lon0):\n",
    "    data_ij = data_arr.sel(lat=lat0, lon=lon0, method='nearest').values\n",
    "    return data_ij"
   ]
  },
  {
   "cell_type": "markdown",
   "id": "cb76ede5-81b7-4ff0-9513-ae31ed761a3d",
   "metadata": {},
   "source": [
    "## User inputs"
   ]
  },
  {
   "cell_type": "code",
   "execution_count": null,
   "id": "3e3cddcc-3790-4a68-b632-96cb9cef6bfc",
   "metadata": {},
   "outputs": [],
   "source": [
    "# Year and name of storm (in that year)\n",
    "year = 2023\n",
    "\n",
    "tc_name = 'franklin'\n",
    "#tc_name = 'idalia'\n",
    "#tc_name = 'lee'\n",
    "\n",
    "fcst_nDays = 10 # 10-day forecasts"
   ]
  },
  {
   "cell_type": "markdown",
   "id": "2afed568-26ba-4ffe-abdc-ee4e8410a5f0",
   "metadata": {},
   "source": [
    "## Read pre-processed storm info."
   ]
  },
  {
   "cell_type": "code",
   "execution_count": null,
   "id": "707431a7-0d8a-41b3-93be-63465a0c7533",
   "metadata": {},
   "outputs": [],
   "source": [
    "ds_tc= xr.open_dataset(tc_name+ str(year)+'.nc')\n",
    "\n",
    "start_date = str(ds_tc['time'][0].dt.strftime(\"%Y-%m-%d\").values)\n",
    "end_date = str(ds_tc['time'][-1].dt.strftime(\"%Y-%m-%d\").values)\n",
    "\n",
    "print(\"\\nHurricane:\\t{} originated on:\\t{},\\t dissipated on:\\t{}.\\n\".format(tc_name.upper(), start_date, end_date))"
   ]
  },
  {
   "cell_type": "markdown",
   "id": "70a91f9d-d70b-48aa-b775-cd9fc05bcf8f",
   "metadata": {},
   "source": [
    "## Get the OSTIA SST along the TC track.\n",
    "- The TC _moves_! \n",
    "- Therefore at any time, it has a specific location. \n",
    "- At that coordinate (time, position), we know the true SST (because we are in hindcast mode)."
   ]
  },
  {
   "cell_type": "code",
   "execution_count": null,
   "id": "3d6314cb-515a-4c1a-bbaf-57c672994fe7",
   "metadata": {},
   "outputs": [],
   "source": [
    "real_sst = np.zeros( (ds_tc['time'].shape[0]), dtype=np.float32)\n",
    "\n",
    "for id in range(0, ds_tc['time'].shape[0]):\n",
    "    fName = get_real_data_fName(year, str(ds_tc['time'][id].dt.strftime(\"%Y%m%d\").values))\n",
    "    real_sst[id] = get_sst( xr.open_dataset(fName).SST, ds_tc['lat'].values[id], ds_tc['lon'].values[id])\n",
    "\n",
    "ds_tc = ds_tc.assign(sst=(['time'],real_sst)) # add SST to dataset- make life easy! "
   ]
  },
  {
   "cell_type": "markdown",
   "id": "95a22a5e-4a4e-4a26-bae9-35aae361bbf2",
   "metadata": {},
   "source": [
    "## Plot OSTIA SST along TC track"
   ]
  },
  {
   "cell_type": "code",
   "execution_count": null,
   "id": "2f986261-fc7a-4f04-bc6a-82a776db4443",
   "metadata": {},
   "outputs": [],
   "source": [
    "fig, ax1 = plt.subplots(figsize=(8,6))\n",
    "ax2 = ax1.twinx()\n",
    "\n",
    "ds_tc.sst.plot.line(ax=ax1,  c='b', ls='-', label='OSTIA SST')\n",
    "ds_tc.mslp.plot.line(ax=ax2, c='r', ls='-', label='MSLP')\n",
    "\n",
    "ax1.set_ylabel('SST ($^\\circ$K)',  c='b', fontsize=14, weight='bold')\n",
    "ax1.tick_params(axis='y', labelcolor='b')\n",
    "\n",
    "ax2.set_ylabel('MSLP (hPa)', c='r', fontsize=14,weight='bold')\n",
    "ax2.tick_params(axis='y', labelcolor='r')\n",
    "\n",
    "ax1.set_title('{} {}'.format(tc_name.upper(),year), fontsize=15)"
   ]
  },
  {
   "cell_type": "markdown",
   "id": "cf8432ea-576e-4592-b99e-c817c5fee075",
   "metadata": {},
   "source": [
    "## Get predicted SST as the TC advances in time.\n",
    "### From any given date, we _predict_ into future using `2` different methods:\n",
    "1. `Persist` (from a starting date) SST into future\n",
    "2. `Persist the starting date SST anomaly` (from a daily climatology) into future\n",
    "\n",
    "As the TC advances in time, data for _past_ days is filled with _real_ data."
   ]
  },
  {
   "cell_type": "code",
   "execution_count": null,
   "id": "6c38f610-5a9b-4f85-bfcc-4a70defdc9b4",
   "metadata": {},
   "outputs": [],
   "source": [
    "exp_dates  = pd.date_range(str(start_date), end_date, freq='D') # Forecast from: TC start date to the end date\n",
    "nfcst = exp_dates.shape[0]\n",
    "\n",
    "predicted_sst_method1 = np.full( (nfcst, ds_tc['time'].shape[0]), np.nan, dtype=np.float32)\n",
    "predicted_sst_method2 = np.full( (nfcst, ds_tc['time'].shape[0]), np.nan, dtype=np.float32)\n",
    "\n",
    "for ifcst in range(1, nfcst+1): # each forecast\n",
    "    # Each forecast is [fcst_nDays] = 10-days long\n",
    "    fcst_dates = pd.date_range(start=exp_dates[0]+pd.DateOffset(days=ifcst-1), periods=fcst_nDays)\n",
    "    fcst_start_date = fcst_dates[0].strftime(\"%Y%m%d\")\n",
    "    print(\"Forecast [{}] start date: {}\".format(ifcst,fcst_start_date))\n",
    "    \n",
    "    index_start = np.where(ds_tc.time > fcst_dates[0])[0][0]\n",
    "    past_indx   = np.arange(0, index_start) # --> real SST\n",
    "    future_indx = np.arange(index_start, ds_tc['time'].shape[0]+1) # --> predicted SST\n",
    "    \n",
    "    #print(\"PAST\", past_indx) # --> We know it.\n",
    "    for id in range(0, past_indx.shape[0]):\n",
    "        predicted_sst_method1[ifcst-1, id] = real_sst[id]\n",
    "        predicted_sst_method2[ifcst-1, id] = real_sst[id]\n",
    "\n",
    "    #print(\"FUTURE\", future_indx[0], future_indx[-1]) # --> Unknown, predict SST.\n",
    "    for id in range(future_indx[0], future_indx[-1]):\n",
    "        if id == future_indx[0]:\n",
    "            fName0_real = get_real_data_fName(year, str(ds_tc.time[id].dt.strftime(\"%Y%m%d\").values))\n",
    "            SST0 = xr.open_dataset(fName0_real).SST # Initial SST\n",
    "            \n",
    "            # Anomaly in SST on start date\n",
    "            fName0_clim = get_clim_data_fName(str(ds_tc.time[id].dt.strftime(\"%m%d\").values))\n",
    "            clim_SST0 = xr.open_dataset(fName0_clim).SST\n",
    "            \n",
    "            dSST0=xr.full_like(clim_SST0, np.nan) # xarray is unhappy with the date in climatology file!\n",
    "            dSST0.values = (SST0.values- clim_SST0.values) # Initial anomaly    \n",
    "  \n",
    "        fName_clim = get_clim_data_fName(str(ds_tc.time[id].dt.strftime(\"%m%d\").values))\n",
    "        clim_sst = xr.open_dataset(fName_clim).SST # daily climatology of the day\n",
    "            \n",
    "        predicted_sst_method1[ifcst-1, id]= get_sst( SST0, ds_tc['lat'].values[id], ds_tc['lon'].values[id])\n",
    "        predicted_sst_method2[ifcst-1, id]= (clim_sst.squeeze()+dSST0.squeeze()).sel(lat=ds_tc['lat'].values[id],lon= ds_tc['lon'].values[id], method='nearest')"
   ]
  },
  {
   "cell_type": "markdown",
   "id": "64139604-9bad-4ef1-84b8-2b31b5d42f8d",
   "metadata": {},
   "source": [
    "## Plot real and predicted data"
   ]
  },
  {
   "cell_type": "code",
   "execution_count": null,
   "id": "bad46354-025c-4d37-a504-ae7cb7b1051c",
   "metadata": {},
   "outputs": [],
   "source": [
    "plt.figure( figsize=(16,8))\n",
    "\n",
    "ds_tc.sst.plot.line(ls='-', lw=4, _labels=False, add_legend=True, label='OSTIA SST')\n",
    "for ifcst in range(0, 1):#nfcst):\n",
    "    plt.plot_date(ds_tc.time, predicted_sst_method1[ifcst,:], ls='-', marker=None, label='persist SST FCST {}'.format(str(ifcst+1).zfill(2)))\n",
    "    plt.plot_date(ds_tc.time, predicted_sst_method2[ifcst,:], ls='-', marker=None, label='persist SSTanom FCST {}'.format(str(ifcst+1).zfill(2)))\n",
    "plt.legend(ncol=5)\n",
    "plt.ylabel('SST [$^\\circ$K]', fontsize=12)"
   ]
  },
  {
   "cell_type": "markdown",
   "id": "13c51947-fc30-4a59-aaad-444c3f7c17dd",
   "metadata": {},
   "source": [
    "## Plot real and predicted data with MSLP"
   ]
  },
  {
   "cell_type": "code",
   "execution_count": null,
   "id": "1bdb4a7d-76c2-4949-9e49-9fab4a4a889e",
   "metadata": {},
   "outputs": [],
   "source": [
    "fig, ax1 = plt.subplots(figsize=(16,8))\n",
    "\n",
    "ax2 = ax1.twinx()\n",
    "\n",
    "ds_tc.sst.plot.line(ax=ax1,  ls='-', lw=4, _labels=False, add_legend=True, label='OSTIA SST')\n",
    "ds_tc.mslp.plot.line(ax=ax2, c='r', ls='-', label='MSLP')\n",
    "\n",
    "# forecasts\n",
    "for ifcst in range(0, 2):#nfcst):\n",
    "    ax1.plot_date(ds_tc.time, predicted_sst_method1[ifcst,:], ls='--', marker=None, label='persist SST FCST {}'.format(str(ifcst+1).zfill(2)))\n",
    "    ax1.plot_date(ds_tc.time, predicted_sst_method2[ifcst,:], ls='-', marker=None, label='persist SSTanom FCST {}'.format(str(ifcst+1).zfill(2)))\n",
    "\n",
    "ax1.set_ylabel('SST ($^\\circ$K)',  c='b', fontsize=14, weight='bold')\n",
    "ax1.tick_params(axis='y', labelcolor='b')\n",
    "\n",
    "ax2.set_ylabel('MSLP (hPa)', c='r', fontsize=14,weight='bold')\n",
    "ax2.tick_params(axis='y', labelcolor='r')\n",
    "\n",
    "ax1.set_title('{} {}'.format(tc_name.upper(),year), fontsize=15)\n",
    "\n",
    "ax1.legend(ncol=1, fontsize=15)"
   ]
  },
  {
   "cell_type": "markdown",
   "id": "bd39d70c-4475-4f1c-8fd3-499c86138aca",
   "metadata": {},
   "source": [
    "## Compare different prediction methods:\n",
    "- OSTIA SST.\n",
    "- Plot forecast error mean and standard deviation."
   ]
  },
  {
   "cell_type": "code",
   "execution_count": null,
   "id": "1f5cc121-c6ed-4584-b0bd-be9b8f2c2b61",
   "metadata": {},
   "outputs": [],
   "source": [
    "err1 = np.zeros_like(predicted_sst_method1)\n",
    "err2 = np.zeros_like(predicted_sst_method2)\n",
    "\n",
    "for ifcst in range(0, err1.shape[0]):\n",
    "    err1[ifcst, :] = predicted_sst_method1[ifcst,:] - real_sst\n",
    "    err2[ifcst, :] = predicted_sst_method2[ifcst,:] - real_sst\n",
    " \n",
    "plt.figure( figsize=(16,10))\n",
    "\n",
    "ax1=plt.subplot(311)\n",
    "ax2 = ax1.twinx()\n",
    "ax1.plot_date(ds_tc.time,  ds_tc.sst, ls='-', marker=None, label='OSTIA SST')\n",
    "ax2.plot_date(ds_tc.time,  ds_tc.mslp, ls='--', marker=None, label='MSLP')\n",
    "plt.title('{} {}'.format(tc_name.upper(),year), fontsize=15)\n",
    "ax1.legend(loc=3); ax2.legend(loc=1)\n",
    "ax1.set_ylabel('SST ($^\\circ$K)')\n",
    "ax2.set_ylabel('MSLP (hPa))')\n",
    "#\n",
    "plt.subplot(312)\n",
    "plt.plot_date( ds_tc.time, np.mean(err1, axis=0, dtype=np.float64), ls='-', marker=None, label='persist')\n",
    "plt.plot_date( ds_tc.time, np.mean(err2, axis=0, dtype=np.float64), ls='-',marker=None, label='persist anom')\n",
    "plt.legend()\n",
    "plt.ylabel('Mean of SST error ($^\\circ$K)')\n",
    "#\n",
    "plt.subplot(313)\n",
    "plt.plot_date( ds_tc.time, np.std(err1, axis=0, dtype=np.float64), ls='-', marker=None, label='persist')\n",
    "plt.plot_date( ds_tc.time, np.std(err2, axis=0, dtype=np.float64), ls='-', marker=None, label='persist anom')\n",
    "plt.legend()\n",
    "plt.ylabel('STD Dev of SST error ($^\\circ$K)')"
   ]
  },
  {
   "cell_type": "code",
   "execution_count": null,
   "id": "0c71cfb8-7a83-4f86-91b9-73897c097865",
   "metadata": {},
   "outputs": [],
   "source": []
  }
 ],
 "metadata": {
  "kernelspec": {
   "display_name": "Min4.11.0",
   "language": "python",
   "name": "min4.11.0"
  },
  "language_info": {
   "codemirror_mode": {
    "name": "ipython",
    "version": 3
   },
   "file_extension": ".py",
   "mimetype": "text/x-python",
   "name": "python",
   "nbconvert_exporter": "python",
   "pygments_lexer": "ipython3",
   "version": "3.9.12"
  }
 },
 "nbformat": 4,
 "nbformat_minor": 5
}
