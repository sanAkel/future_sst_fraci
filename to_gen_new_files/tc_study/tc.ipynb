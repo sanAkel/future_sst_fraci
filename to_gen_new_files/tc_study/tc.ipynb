{
 "cells": [
  {
   "cell_type": "code",
   "execution_count": null,
   "id": "5dbb7892-5804-4811-8f03-aad678e52812",
   "metadata": {},
   "outputs": [],
   "source": [
    "import xarray as xr\n",
    "import numpy as np\n",
    "\n",
    "import matplotlib.pyplot as plt\n",
    "\n",
    "import cartopy.crs as ccrs\n",
    "import cartopy.feature as cfeature\n",
    "\n",
    "# To avoid warning messages\n",
    "import warnings\n",
    "warnings.filterwarnings('ignore')\n",
    "\n",
    "%matplotlib inline\n",
    "\n",
    "# https://tropycal.github.io/tropycal/examples/tracks.storm.html\n",
    "\n",
    "import tropycal.tracks as tracks"
   ]
  },
  {
   "cell_type": "code",
   "execution_count": null,
   "id": "4dace6ff-f868-4973-957b-121ef2824a79",
   "metadata": {},
   "outputs": [],
   "source": [
    "def get_first_day(ds, classifacation='TS'):\n",
    "    # first time it became Tropical Storm 'TS'\n",
    "    id=np.where(ds.type==classifacation)[0][0]\n",
    "    date0=ds.time[id]\n",
    "    #print(\"{}/{}/{}\".format(date0.year,str(date0.month).zfill(2),str(date0.day).zfill(2)))\n",
    "    return date0"
   ]
  },
  {
   "cell_type": "code",
   "execution_count": null,
   "id": "37f8ba64-8e10-4a46-9dd4-7b9e0e57dde5",
   "metadata": {},
   "outputs": [],
   "source": [
    "# See https://www.nhc.noaa.gov/data/#hurdat [01/28/2024] does not have 2023 yet. Use IBTrACS.\n",
    "\n",
    "year = 2023\n",
    "\n",
    "basin = tracks.TrackDataset(basin='north_atlantic',source='ibtracs',include_btk=False, interpolate_data=True)\n",
    "season = basin.get_season(year)"
   ]
  },
  {
   "cell_type": "code",
   "execution_count": null,
   "id": "4c9360e2-9e34-46b7-b2fe-18140f41accf",
   "metadata": {},
   "outputs": [],
   "source": [
    "#print(season)\n",
    "season.plot()"
   ]
  },
  {
   "cell_type": "code",
   "execution_count": null,
   "id": "317c3ce9-8726-436d-8f4c-2b693072033d",
   "metadata": {},
   "outputs": [],
   "source": [
    "season.to_dataframe()"
   ]
  },
  {
   "cell_type": "markdown",
   "id": "e124c761-4a37-41fc-aba7-2d45e41d166b",
   "metadata": {},
   "source": [
    "## Storms that had a category >= 3."
   ]
  },
  {
   "cell_type": "code",
   "execution_count": null,
   "id": "bff47a75-937e-4bba-bcb1-a0741c418e72",
   "metadata": {},
   "outputs": [],
   "source": [
    "franklin2023 = basin.get_storm(('franklin',year))\n",
    "#print(franklin2023)\n",
    "#franklin2023.plot()\n",
    "\n",
    "idalia2023 = basin.get_storm(('idalia',year))\n",
    "lee2023    = basin.get_storm(('lee', year))\n",
    "\n",
    "data_franklin2023 = franklin2023.to_xarray()\n",
    "data_idalia2023 = idalia2023.to_xarray()\n",
    "data_lee2023 = lee2023.to_xarray()\n",
    "\n",
    "# save data\n",
    "data_franklin2023.to_netcdf('franklin2023.nc')\n",
    "data_idalia2023.to_netcdf('idalia2023.nc')\n",
    "data_lee2023.to_netcdf('lee2023.nc')"
   ]
  },
  {
   "cell_type": "markdown",
   "id": "e1878828-c5b2-4d6d-88fc-4f5c7ec149e2",
   "metadata": {},
   "source": [
    "## Plot these storm tracks: MSLP and wind speed"
   ]
  },
  {
   "cell_type": "code",
   "execution_count": null,
   "id": "0d56c530-a8be-4d51-ab42-4ab6f9f730c3",
   "metadata": {},
   "outputs": [],
   "source": [
    "fig = plt.figure(figsize=(12,6))#; ax=fig.axes\n",
    "ax = plt.axes(projection=ccrs.PlateCarree())\n",
    "ax.coastlines()\n",
    "ax.stock_img()\n",
    "\n",
    "p1=plt.scatter(data_franklin2023.lon, data_franklin2023.lat, s=data_franklin2023.vmax/3., c=data_franklin2023.mslp,\n",
    "              marker='o', vmin=910., vmax=1050, transform=ccrs.PlateCarree(), cmap=plt.cm.Spectral)\n",
    "plt.text(data_franklin2023.lon[0], data_franklin2023.lat[0], 'franklin'.upper(), transform=ccrs.PlateCarree(), fontsize=15)\n",
    "\n",
    "p2=plt.scatter(data_idalia2023.lon, data_idalia2023.lat, s=data_idalia2023.vmax/3., c=data_idalia2023.mslp,\n",
    "              marker='o', vmin=910., vmax=1050, transform=ccrs.PlateCarree(), cmap=plt.cm.Spectral)\n",
    "plt.text(data_idalia2023.lon[0], data_idalia2023.lat[0], 'idalia'.upper(), transform=ccrs.PlateCarree(), fontsize=15)\n",
    "\n",
    "p3=plt.scatter(data_lee2023.lon, data_lee2023.lat, s=data_lee2023.vmax/3., c=data_lee2023.mslp,\n",
    "              marker='o', vmin=910., vmax=1050, transform=ccrs.PlateCarree(), cmap=plt.cm.Spectral)\n",
    "plt.text(data_lee2023.lon[0], data_lee2023.lat[0], 'lee'.upper(), transform=ccrs.PlateCarree(), fontsize=15)\n",
    "\n",
    "cb=plt.colorbar(p, pad=0.01, shrink=0.85)\n",
    "cb.ax.set_ylabel('MSLP (hPa)', fontsize=15)\n",
    "p1.axes.set_extent( [-100., -9., 5., 55.], ccrs.PlateCarree())"
   ]
  },
  {
   "cell_type": "code",
   "execution_count": null,
   "id": "6460b762-834c-42e8-8f10-55d98cc39a88",
   "metadata": {},
   "outputs": [],
   "source": [
    "plt.figure(figsize=(16,6), dpi=150)\n",
    "\n",
    "plt.subplot(211)\n",
    "plt.plot_date(data_franklin2023.time, data_franklin2023.mslp, ls='-', marker=None, label='franklin'.upper())\n",
    "plt.plot_date(data_idalia2023.time, data_idalia2023.mslp, ls='-', marker=None, label='idalia'.upper())\n",
    "plt.plot_date(data_lee2023.time, data_lee2023.mslp, ls='-', marker=None, label='lee'.upper())\n",
    "plt.grid(True)\n",
    "plt.ylabel('MSLP (hPa)')\n",
    "\n",
    "plt.subplot(212)\n",
    "plt.plot_date(data_franklin2023.time, data_franklin2023.vmax, ls='-', marker=None, label='franklin'.upper())\n",
    "plt.plot_date(data_idalia2023.time, data_idalia2023.vmax, ls='-', marker=None, label='idalia'.upper())\n",
    "plt.plot_date(data_lee2023.time, data_lee2023.vmax, ls='-', marker=None, label='lee'.upper())\n",
    "\n",
    "plt.grid(True)\n",
    "plt.ylabel('Max wind speed (knots)')\n",
    "plt.legend()"
   ]
  },
  {
   "cell_type": "code",
   "execution_count": null,
   "id": "3274c71c-bf1c-4849-8a84-19f7e5eccf0b",
   "metadata": {},
   "outputs": [],
   "source": [
    "date0=get_first_day(franklin2023)\n",
    "print(date0)\n",
    "\n",
    "date0=get_first_day(idalia2023)\n",
    "print(date0)\n",
    "\n",
    "date0=get_first_day(lee2023)\n",
    "print(date0)"
   ]
  }
 ],
 "metadata": {
  "kernelspec": {
   "display_name": "Python [conda env:xesmf_env] *",
   "language": "python",
   "name": "conda-env-xesmf_env-py"
  },
  "language_info": {
   "codemirror_mode": {
    "name": "ipython",
    "version": 3
   },
   "file_extension": ".py",
   "mimetype": "text/x-python",
   "name": "python",
   "nbconvert_exporter": "python",
   "pygments_lexer": "ipython3",
   "version": "3.11.7"
  }
 },
 "nbformat": 4,
 "nbformat_minor": 5
}
